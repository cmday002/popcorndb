{
 "cells": [
  {
   "cell_type": "code",
   "execution_count": null,
   "id": "0",
   "metadata": {},
   "outputs": [],
   "source": [
    "import pandas as pd\n",
    "\n",
    "# Expand overall width\n",
    "pd.set_option('display.width', 200)\n",
    "\n",
    "name_basics = pd.read_csv('data/raw/name.basics.tsv.gz', sep='\\t')\n",
    "title_akas = pd.read_csv('data/raw/title.akas.tsv.gz', sep='\\t')\n",
    "title_crews = pd.read_csv('data/raw/title.crew.tsv.gz', sep='\\t')\n",
    "\n",
    "print(title_crews.head())"
   ]
  }
 ],
 "metadata": {
  "kernelspec": {
   "display_name": ".venv",
   "language": "python",
   "name": "python3"
  },
  "language_info": {
   "codemirror_mode": {
    "name": "ipython",
    "version": 3
   },
   "file_extension": ".py",
   "mimetype": "text/x-python",
   "name": "python",
   "nbconvert_exporter": "python",
   "pygments_lexer": "ipython3",
   "version": "3.12.10"
  }
 },
 "nbformat": 4,
 "nbformat_minor": 5
}
