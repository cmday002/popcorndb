{
 "cells": [
  {
   "cell_type": "code",
   "execution_count": null,
   "id": "0",
   "metadata": {},
   "outputs": [],
   "source": [
    "import os\n",
    "import gzip\n",
    "import pandas as pd\n",
    "\n",
    "path = \"C:/Users/cmday/Downloads/imdb\"\n",
    "pd.set_option('display.width', 200)\n",
    "\n",
    "for f in os.listdir(path):\n",
    "    df = pd.read_csv(f\"{path}/{f}\", sep=\"\\t\", compression='gzip', nrows=5)\n",
    "    print(f)\n",
    "    print(df)"
   ]
  },
  {
   "cell_type": "code",
   "execution_count": null,
   "id": "1",
   "metadata": {},
   "outputs": [],
   "source": [
    "\n",
    "ratings = pd.read_csv(f\"{path}/{\"title.ratings.tsv.gz\"}\",\n",
    "                      sep=\"\\t\", compression='gzip')\n",
    "titles = pd.read_csv(f\"{path}/{\"title.basics.tsv.gz\"}\",\n",
    "                     sep=\"\\t\", compression='gzip')\n",
    "crew = pd.read_csv(f\"{path}/{\"title.crew.tsv.gz\"}\",\n",
    "                   sep=\"\\t\", compression='gzip')\n",
    "akas = pd.read_csv(f\"{path}/{\"title.akas.tsv.gz\"}\",\n",
    "                   sep=\"\\t\", compression='gzip')\n",
    "names = pd.read_csv(f\"{path}/{\"name.basics.tsv.gz\"}\",\n",
    "                    sep=\"\\t\", compression='gzip')\n",
    "principals = pd.read_csv(\n",
    "    f\"{path}/{\"title.principals.tsv.gz\"}\", sep=\"\\t\", compression='gzip')"
   ]
  },
  {
   "cell_type": "code",
   "execution_count": null,
   "id": "2",
   "metadata": {},
   "outputs": [],
   "source": [
    "print(principals.head())"
   ]
  },
  {
   "cell_type": "code",
   "execution_count": null,
   "id": "3",
   "metadata": {},
   "outputs": [],
   "source": [
    "\n",
    "# print(titles[titles[\"primaryTitle\"].str.contains(\"Sicario\", case=True, na=True) & (titles[\"titleType\"] == \"movie\")])\n",
    "\n",
    "# tt3397884\n",
    "\n",
    "print(ratings[ratings[\"tconst\"] == \"tt3397884\"])\n",
    "print(crew[crew[\"tconst\"] == \"tt3397884\"])\n",
    "print(akas[akas[\"titleId\"] == \"tt3397884\"])\n",
    "print(titles[titles[\"tconst\"] == \"tt3397884\"])\n",
    "print(crew[crew[\"tconst\"] == \"tt3397884\"])\n",
    "print(principals[principals[\"tconst\"] == \"tt3397884\"])"
   ]
  },
  {
   "cell_type": "code",
   "execution_count": null,
   "id": "4",
   "metadata": {},
   "outputs": [],
   "source": [
    "import pandas as pd\n",
    "\n",
    "# Merge ratings and titles\n",
    "df = pd.merge(\n",
    "    ratings,\n",
    "    titles[titles[\"titleType\"] == \"movie\"],\n",
    "    on=\"tconst\"\n",
    ")\n",
    "\n",
    "C = df[\"averageRating\"].mean()\n",
    "m = 500000  # minimum votes threshold\n",
    "\n",
    "df = df[df[\"numVotes\"] >= m].copy()\n",
    "df[\"weightedRating\"] = (\n",
    "    df[\"numVotes\"] / (df[\"numVotes\"] + m) * df[\"averageRating\"]) + (m / (df[\"numVotes\"] + m) * C\n",
    "                                                                    )\n",
    "\n",
    "top_rated = df.sort_values(\"weightedRating\", ascending=False).head(\n",
    "    100).reset_index(drop=True)\n",
    "print(top_rated[[\"primaryTitle\", \"averageRating\", \"numVotes\", \"weightedRating\"]])\n",
    "\n",
    "top_100 = top_rated[\"primaryTitle\"]\n",
    "\n",
    "print(top_100)\n",
    "\n",
    "top_100.to_csv(\"top_100_movies.csv\", index=False, header=False)"
   ]
  }
 ],
 "metadata": {
  "kernelspec": {
   "display_name": ".venv",
   "language": "python",
   "name": "python3"
  },
  "language_info": {
   "codemirror_mode": {
    "name": "ipython",
    "version": 3
   },
   "file_extension": ".py",
   "mimetype": "text/x-python",
   "name": "python",
   "nbconvert_exporter": "python",
   "pygments_lexer": "ipython3",
   "version": "3.12.6"
  }
 },
 "nbformat": 4,
 "nbformat_minor": 5
}
